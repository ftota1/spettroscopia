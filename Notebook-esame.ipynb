{
 "cells": [
  {
   "cell_type": "markdown",
   "metadata": {},
   "source": [
    "Notebook esame: \n",
    "In questo notebook mi occuperò dell' analisi degli spettri di assorbimento di due specie di molecole (CO2 e C2H2), ottenuti attraverso il metodo 'comb-locked frequency-swept synthesis' (CLFSS), il quale permette di avere simultanaemante un grande livello di precisione e di range di misura in tempi brevi.\n",
    "Come primo passo importo le librerie necessarie e i dati per un plot preliminare."
   ]
  },
  {
   "cell_type": "code",
   "execution_count": 1,
   "metadata": {},
   "outputs": [],
   "source": [
    "# Import libraries\n",
    "%matplotlib qt\n",
    "import numpy as np\n",
    "import matplotlib.pyplot as plt\n",
    "from scipy.optimize import curve_fit\n",
    "import ipywidgets as widgets\n",
    "from ipywidgets import interact_manual\n",
    "from ipywidgets import interact\n",
    "from scipy.signal import find_peaks\n",
    "import spettro_module as sm"
   ]
  },
  {
   "cell_type": "code",
   "execution_count": 2,
   "metadata": {},
   "outputs": [],
   "source": [
    "# Dizionario dei dati\n",
    "dati = {}\n",
    "\n",
    "# Costruisco i vettori\n",
    "myList=['C2H2', 'CO2'] #modifica in percorsi relativi\n",
    "dati['C2H2']=np.loadtxt(\"ATLAS_2018/C2H2_Pband_10Torr.dat\",delimiter=\"\\t\", skiprows=2, usecols=range(6))\n",
    "dati['CO2']=np.loadtxt(\"ATLAS_2018/CO2_3THz_scan_CRDS__data_2e-2Torr.dat\",delimiter=\"\\t\", skiprows=2,usecols=range(6))\n"
   ]
  },
  {
   "cell_type": "code",
   "execution_count": 3,
   "metadata": {},
   "outputs": [],
   "source": [
    "#prova plot dati\n",
    "plt.close('all')\n",
    "\n",
    "for name in myList:\n",
    "    plt.figure()\n",
    "    plt.plot(dati[name][:,0],dati[name][:,-1],label=name)\n",
    "    plt.legend()\n",
    "    plt.grid()\n"
   ]
  },
  {
   "cell_type": "markdown",
   "metadata": {},
   "source": [
    "Ora come prima analisi è utile trovare la posizione e l'altezza dei picchi, informazioni utili da utilizzare come starting point per il fit dei modelli."
   ]
  },
  {
   "cell_type": "code",
   "execution_count": 21,
   "metadata": {},
   "outputs": [],
   "source": [
    "plt.close('all')\n",
    "#algoritmo di peaks\n",
    "#per ora lasciamo da parte il calcolo della baseline\n",
    "peaks={}\n",
    "hmin=[.02, 6e-9]\n",
    "i=0\n",
    "for name in myList:\n",
    "    peaks[name]=[dati[name][find_peaks(dati[name][:,-1],height=hmin[i], width=10)[0],0],dati[name][find_peaks(dati[name][:,-1],height=hmin[i], width=10)[0],-1]]\n",
    "    plt.figure()\n",
    "    plt.plot(dati[name][:,0],dati[name][:,-1])\n",
    "    plt.plot(peaks[name][0],peaks[name][1], '.')\n",
    "    i+=1"
   ]
  },
  {
   "cell_type": "markdown",
   "metadata": {},
   "source": [
    "Ora si può procedere all' analisi in due metodi, che chiameremo 'fit dei picchi' e 'fit delle bande'. Il primo consiste nell'analizzare con un fit i singoli picchi di assorbimento, mentre il secondo si procede con l'analisi dei massimi appartenenti alla stessa banda. Iniziamo col primo metodo."
   ]
  },
  {
   "cell_type": "code",
   "execution_count": 24,
   "metadata": {},
   "outputs": [
    {
     "ename": "IndexError",
     "evalue": "index 162 is out of bounds for axis 0 with size 162",
     "output_type": "error",
     "traceback": [
      "\u001b[0;31m---------------------------------------------------------------------------\u001b[0m",
      "\u001b[0;31mIndexError\u001b[0m                                Traceback (most recent call last)",
      "\u001b[1;32m/Users/federicotota/Desktop/Labo/labo_scripting/Esame Final/Notebook-esame.ipynb Cella 8\u001b[0m line \u001b[0;36m1\n\u001b[1;32m     <a href='vscode-notebook-cell:/Users/federicotota/Desktop/Labo/labo_scripting/Esame%20Final/Notebook-esame.ipynb#X10sZmlsZQ%3D%3D?line=13'>14</a>\u001b[0m xmin\u001b[39m=\u001b[39mnp\u001b[39m.\u001b[39margmin(\u001b[39m1\u001b[39m\u001b[39m/\u001b[39m(dati2\u001b[39m-\u001b[39mj))\n\u001b[1;32m     <a href='vscode-notebook-cell:/Users/federicotota/Desktop/Labo/labo_scripting/Esame%20Final/Notebook-esame.ipynb#X10sZmlsZQ%3D%3D?line=14'>15</a>\u001b[0m xmax\u001b[39m=\u001b[39mnp\u001b[39m.\u001b[39margmax(\u001b[39m1\u001b[39m\u001b[39m/\u001b[39m(dati2\u001b[39m-\u001b[39mj)) \n\u001b[0;32m---> <a href='vscode-notebook-cell:/Users/federicotota/Desktop/Labo/labo_scripting/Esame%20Final/Notebook-esame.ipynb#X10sZmlsZQ%3D%3D?line=15'>16</a>\u001b[0m \u001b[39mif\u001b[39;00m np\u001b[39m.\u001b[39mlogical_and(np\u001b[39m.\u001b[39mlogical_and(peaks[name][\u001b[39m0\u001b[39;49m][c\u001b[39m+\u001b[39;49m\u001b[39m1\u001b[39;49m]\u001b[39m>\u001b[39mxmax,peaks[name][\u001b[39m0\u001b[39m][c\u001b[39m-\u001b[39m\u001b[39m1\u001b[39m]\u001b[39m<\u001b[39mxmin),np\u001b[39m.\u001b[39mlogical_and(c\u001b[39m!=\u001b[39m\u001b[39m0\u001b[39m,c\u001b[39m!=\u001b[39m\u001b[39mlen\u001b[39m(peaks[name][\u001b[39m0\u001b[39m]))):\n\u001b[1;32m     <a href='vscode-notebook-cell:/Users/federicotota/Desktop/Labo/labo_scripting/Esame%20Final/Notebook-esame.ipynb#X10sZmlsZQ%3D%3D?line=16'>17</a>\u001b[0m     xfit\u001b[39m=\u001b[39mdati[name][xmin:xmax,\u001b[39m0\u001b[39m]\n\u001b[1;32m     <a href='vscode-notebook-cell:/Users/federicotota/Desktop/Labo/labo_scripting/Esame%20Final/Notebook-esame.ipynb#X10sZmlsZQ%3D%3D?line=17'>18</a>\u001b[0m     yfit\u001b[39m=\u001b[39mdati[name][xmin:xmax,\u001b[39m-\u001b[39m\u001b[39m1\u001b[39m]\n",
      "\u001b[0;31mIndexError\u001b[0m: index 162 is out of bounds for axis 0 with size 162"
     ]
    }
   ],
   "source": [
    "#fit dei picchi\n",
    "plt.close('all')\n",
    "\n",
    "bline=[.005,0]#2.5e-9]\n",
    "\n",
    "for i,name in enumerate(myList):\n",
    "    #name='CO2'\n",
    "    #i=1\n",
    "    plt.figure()\n",
    "    cond=(dati[name][:,-1]<=bline[i])\n",
    "    dati2=dati[name][:,0]*cond\n",
    "    for c,j in enumerate(peaks[name][0]):\n",
    "        #perche` questa formula? voglio trovare il pt piu` vicino che sia sotto la bline (altrimenti arrivo al picco)`\n",
    "        xmin=np.argmin(1/(dati2-j))\n",
    "        xmax=np.argmax(1/(dati2-j)) \n",
    "        if np.logical_and(np.logical_and(peaks[name][0][c+1]>xmax,peaks[name][0][c-1]<xmin),np.logical_and(c!=0,c!=len(peaks[name][0]))):\n",
    "            xfit=dati[name][xmin:xmax,0]\n",
    "            yfit=dati[name][xmin:xmax,-1]\n",
    "            FWHM=xfit[yfit>=peaks[name][1][c]/2][-1]-xfit[yfit>=peaks[name][1][c]/2][0]\n",
    "\n",
    "            #per il fit utilizzo la funzione di voigt, la quale in prima approssimazione puo` essere approssimata dalla funzione di pseudo voigt, una combinazione (non convoluzione) di lorentziana e gaussiana\n",
    "            #manca la normalizzazione!!!\n",
    "\n",
    "            fit,cov=curve_fit(sm.voigt,xfit,yfit,p0=[max(yfit),FWHM/(2*np.log(2)),j,FWHM/4])#,bounds=((0.001,-np.inf,0,0),(1,np.inf,1,1)))\n",
    "\n",
    "            #controllo che funzioni il metodo scelto\n",
    "            #plt.plot(dati[name][:,0],1/(dati2-j))\n",
    "            plt.plot(xfit,yfit,'r')\n",
    "            plt.plot(xfit,sm.voigt(xfit,*fit),'--b')\n",
    "    #plt.plot(dati[name][:xmax,0],dati[name][:xmax,-1],linewidth=.1)\n",
    "\n"
   ]
  },
  {
   "cell_type": "markdown",
   "metadata": {},
   "source": [
    "Illustriamo ora il secondo metodo, ovvero il fit delle bande attraverso la funzione di maxwell-boltzmann. La difficolta` qui sta nel distinguere le varie bande, trovando un metodo che possa farlo in autonomia"
   ]
  },
  {
   "cell_type": "code",
   "execution_count": null,
   "metadata": {},
   "outputs": [],
   "source": [
    "#fit delle bande \n",
    "plt.close('all')\n",
    "kb=1.380649 *10**-23\n",
    "gmu=[196.8,190.29]\n",
    "eps=[2e-1,1e-8]\n",
    "\n",
    "vmax=[0,0]\n",
    "norm=[0,0]\n",
    "i=0\n",
    "\n",
    "for name in myList:\n",
    "    xb=np.copy(peaks[name][0])\n",
    "    yb=np.copy(peaks[name][1])-bline[i]\n",
    "    b_max=np.argmax(yb)\n",
    "    vmax[i]=xb[b_max]-gmu[i]\n",
    "    vmax[1]=np.sqrt(kb*(8.21917808*10**21))\n",
    "    norm[i]=np.exp(1)*yb[b_max]*((abs(vmax[i])))/(((1/(np.pi))**(3/2))*(4*np.pi))\n",
    "    #guess plot\n",
    "    plt.figure()\n",
    "    plt.grid()\n",
    "    plt.plot(xb,yb, '-*')\n",
    "    plt.plot(xb,sm.max_boltz(xb,vmax[i],norm[i],gmu[i])) #(xb[b_max]-gmu[i]),norm\n",
    "    bcon=(abs(yb-sm.max_boltz(xb,vmax[i],norm[i],gmu[i])))*abs(xb-xb[b_max])<eps[i] #*abs(xb-xb[b_max])\n",
    "    #bcon=[for j in len(xb[bcon]):  ]\n",
    "    plt.plot(xb[bcon],yb[bcon],'.r')\n",
    "    \n",
    "    i+=1\n"
   ]
  }
 ],
 "metadata": {
  "kernelspec": {
   "display_name": "scripting-course",
   "language": "python",
   "name": "python3"
  },
  "language_info": {
   "codemirror_mode": {
    "name": "ipython",
    "version": 3
   },
   "file_extension": ".py",
   "mimetype": "text/x-python",
   "name": "python",
   "nbconvert_exporter": "python",
   "pygments_lexer": "ipython3",
   "version": "3.10.10"
  }
 },
 "nbformat": 4,
 "nbformat_minor": 2
}
