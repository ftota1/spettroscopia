{
 "cells": [
  {
   "cell_type": "markdown",
   "metadata": {},
   "source": [
    "Notebook esame: \n",
    "In questo notebook mi occuperò dell' analisi degli spettri di assorbimento di due specie di molecole (CO2 e C2H2), ottenuti attraverso il metodo 'comb-locked frequency-swept synthesis' (CLFSS), il quale permette di avere simultanaemante un grande livello di precisione e di range di misura in tempi brevi.\n",
    "Come primo passo importo le librerie necessarie e i dati per un plot preliminare."
   ]
  },
  {
   "cell_type": "code",
   "execution_count": null,
   "metadata": {},
   "outputs": [],
   "source": [
    "# Import libraries\n",
    "%matplotlib qt\n",
    "import numpy as np\n",
    "import matplotlib.pyplot as plt\n",
    "from scipy.optimize import curve_fit\n",
    "import ipywidgets as widgets\n",
    "from ipywidgets import interact_manual\n",
    "from ipywidgets import interact\n",
    "from scipy.signal import find_peaks\n",
    "import spettro_module as sm"
   ]
  },
  {
   "cell_type": "code",
   "execution_count": null,
   "metadata": {},
   "outputs": [],
   "source": [
    "# Dizionario dei dati\n",
    "dati = {}\n",
    "\n",
    "# Costruisco i vettori\n",
    "myList=['C2H2', 'CO2'] #modifica in percorsi relativi\n",
    "dati['C2H2']=np.loadtxt(\"ATLAS_2018/C2H2_Pband_10Torr.dat\",delimiter=\"\\t\", skiprows=2, usecols=range(6))\n",
    "dati['CO2']=np.loadtxt(\"ATLAS_2018/CO2_3THz_scan_CRDS__data_2e-2Torr.dat\",delimiter=\"\\t\", skiprows=2,usecols=range(6))\n"
   ]
  },
  {
   "cell_type": "code",
   "execution_count": null,
   "metadata": {},
   "outputs": [],
   "source": [
    "#prova plot dati\n",
    "plt.close('all')\n",
    "\n",
    "for name in myList:\n",
    "    plt.figure()\n",
    "    plt.plot(dati[name][:,0],dati[name][:,-1],label=name)\n",
    "    plt.legend()\n",
    "    plt.grid()\n"
   ]
  }
 ],
 "metadata": {
  "language_info": {
   "name": "python"
  }
 },
 "nbformat": 4,
 "nbformat_minor": 2
}
