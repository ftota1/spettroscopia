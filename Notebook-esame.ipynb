{
 "cells": [
  {
   "cell_type": "markdown",
   "metadata": {},
   "source": [
    "Notebook esame: \n",
    "In questo notebook mi occuperò dell' analisi degli spettri di assorbimento di due specie di molecole (CO2 e C2H2), ottenuti attraverso il metodo 'comb-locked frequency-swept synthesis' (CLFSS), il quale permette di avere simultanaemante un grande livello di precisione e di range di misura in tempi brevi.\n",
    "Come primo passo importo le librerie necessarie."
   ]
  },
  {
   "cell_type": "code",
   "execution_count": 1,
   "metadata": {},
   "outputs": [],
   "source": [
    "# Import libraries\n",
    "%matplotlib qt\n",
    "import numpy as np\n",
    "import matplotlib.pyplot as plt\n",
    "from scipy.optimize import curve_fit\n",
    "#import ipywidgets as widgets\n",
    "#from ipywidgets import interact_manual\n",
    "#from ipywidgets import interact\n",
    "from scipy.signal import find_peaks\n",
    "import spettro_module as sm"
   ]
  },
  {
   "cell_type": "markdown",
   "metadata": {},
   "source": [
    "Ora carico i dati attraverso la funzione loadtxt della libreria numpy, osservando i dati è possibile individuare una baseline, la quale viene subito sottratta ai dati"
   ]
  },
  {
   "cell_type": "code",
   "execution_count": 2,
   "metadata": {},
   "outputs": [],
   "source": [
    "# Dizionario dei dati\n",
    "dati = {}\n",
    "bline=[.005,2.5e-9]\n",
    "# Costruisco i vettori\n",
    "myList=['C2H2', 'CO2'] #modifica in percorsi relativi\n",
    "dati['C2H2']=np.loadtxt(\"ATLAS_2018/C2H2_Pband_10Torr.dat\",delimiter=\"\\t\", skiprows=2, usecols=range(6))\n",
    "dati['CO2']=np.loadtxt(\"ATLAS_2018/CO2_3THz_scan_CRDS__data_2e-2Torr.dat\",delimiter=\"\\t\", skiprows=2,usecols=range(6))\n",
    "for i,name in enumerate(myList):\n",
    "    dati[name][:,-1]=dati[name][:,-1]-bline[i]\n"
   ]
  },
  {
   "cell_type": "code",
   "execution_count": 3,
   "metadata": {},
   "outputs": [],
   "source": [
    "#prova plot dati\n",
    "plt.close('all')\n",
    "\n",
    "for name in myList:\n",
    "    plt.figure()\n",
    "    plt.plot(dati[name][:,0],dati[name][:,-1],label=name)\n",
    "    plt.legend()\n",
    "    plt.grid()\n"
   ]
  },
  {
   "cell_type": "markdown",
   "metadata": {},
   "source": [
    "Ora come prima analisi è utile trovare la posizione e l'altezza dei massimi dei picchi, i quali saranno l'oggetto d'interesse per la distinzione delle varie bande. Inoltre questi dati fungono da starting point per i fit di ogni picco. "
   ]
  },
  {
   "cell_type": "code",
   "execution_count": 4,
   "metadata": {},
   "outputs": [],
   "source": [
    "plt.close('all')\n",
    "#algoritmo di peaks\n",
    "#per ora lasciamo da parte il calcolo della baseline\n",
    "peaks={}\n",
    "hmin=[.02, 6e-9]\n",
    "width=10\n",
    "for i,name in enumerate(myList):\n",
    "    peaks[name]=[dati[name][find_peaks(dati[name][:,-1],height=hmin[i], width=width)[0],0],dati[name][find_peaks(dati[name][:,-1],height=hmin[i], width=width)[0],-1]]\n",
    "    plt.figure()\n",
    "    plt.plot(dati[name][:,0],dati[name][:,-1])\n",
    "    plt.plot(peaks[name][0],peaks[name][1], '.')\n",
    "    plt.grid()\n"
   ]
  },
  {
   "cell_type": "markdown",
   "metadata": {},
   "source": [
    "Ora si può procedere all' analisi in due metodi, che chiameremo 'fit dei picchi' e 'fit delle bande'. Il primo consiste nell'analizzare con un fit i singoli picchi di assorbimento, mentre per il secondo si procede con l'analisi dei massimi dei picchi appartenenti alla stessa banda. Iniziamo illustrando il primo metodo."
   ]
  },
  {
   "cell_type": "markdown",
   "metadata": {},
   "source": [
    "Per analizzare i picchi è necessario per prima cosa isolarli, per fare ciò inizio a togliere tutti i dati negativi, successivamente, utilizzando i massimi dei picchi trovati nella cella precedente come contatori, per ogni picco trovo un xmin e xmax, ovvero inizio e fine del picco con il minimo/massimo della funzione 1/(x-x_picco). Isolato il picco posso procedere con il fit, ma prima noto che alcuni picchi sono sovrapposti, di conseguenza non è possibile distinguerli e la funzione di fit non convergerà. Per eliminare tale problema, ho deciso di escludere dal fit tali picchi, attraverso un if. Per una migliore convergenza del fit, infine, ho scelto di utilizzzare starting points e bounds: per i primi, data la funzione di voigt definita nel modulo, ho utilizzato l'area sottesa da ogni picco trovata in approssimazione di integrale discreto di Riemann, e la Full Width at Half Maximum moltiplicata per alcuni fattori numerici; per i secondi mi sono avvalso di un vettore di controllo (ctrlv) per valutare l'errore percentuale del fit sul guess, e aggiustare i bounds di conseguenza. "
   ]
  },
  {
   "cell_type": "code",
   "execution_count": 17,
   "metadata": {},
   "outputs": [],
   "source": [
    "#fit dei picchi\n",
    "plt.close('all')\n",
    "\n",
    "ctrlv=[[],[]]\n",
    "for i,name in enumerate(myList):\n",
    "    plt.figure()\n",
    "    plt.grid()\n",
    "    cond=(dati[name][:,-1]<=0)\n",
    "    dati2=dati[name][:,0]*cond\n",
    "    plt.plot(dati[name][:,0],dati[name][:,-1],'k',linewidth=.1)\n",
    "    for c,j in enumerate(peaks[name][0]):\n",
    "        #perche` questa formula? voglio trovare il pt piu` vicino che sia sotto la bline (altrimenti arrivo al picco)`\n",
    "        xmin=np.argmin(1/(dati2-j))\n",
    "        xmax=np.argmax(1/(dati2-j)) \n",
    "        xfit=dati[name][xmin:xmax,0]\n",
    "        yfit=dati[name][xmin:xmax,-1]\n",
    "        #grazie all'if elimino i picchi sovrapposti\n",
    "        if c!=len(peaks[name][0])-1:\n",
    "            if np.logical_and(peaks[name][0][c+1]>xfit[-1],peaks[name][0][c-1]<xfit[0]):\n",
    "                \n",
    "                FWHM=xfit[yfit>=max(yfit)/2][-1]-xfit[yfit>=max(yfit)/2][0]\n",
    "\n",
    "                #per il fit utilizzo la funzione di voigt\n",
    "                p0=[np.dot(np.diff(xfit),yfit[:-1]),FWHM/(2*np.sqrt(2*np.log(2))),j,FWHM/2]\n",
    "                fit,cov=curve_fit(sm.voigt,xfit,yfit,p0=p0,\n",
    "                                  bounds=((p0[0]/2,p0[1]/2,p0[2]-.1,p0[3]*.09),(p0[0]*2,p0[1],p0[2]+.1,p0[3]*2)))\n",
    "                #grazie a questo vettore controllo la bonta` del guess\n",
    "                ctrlv[i].append((p0-fit)/p0)\n",
    "                #print((p0-fit)/p0)\n",
    "                #controllo che funzioni il metodo scelto\n",
    "                #plt.plot(dati[name][:,0],1/(dati2-j))\n",
    "                plt.plot(xfit,yfit,'r',linewidth=1)\n",
    "                plt.plot(xfit,sm.voigt(xfit,*fit),'--b',linewidth=.5)\n",
    "                plt.plot(xfit,sm.voigt(xfit,*p0),'--g',linewidth=.5)\n",
    "    #nu Rolex or e diamant\n",
    "    plt.xlabel('Frequenza [THz]')\n",
    "    plt.ylabel('Assorbimento')\n",
    "    plt.title(name)\n",
    "    plt.legend(['whole profile','selected data','fit curve','guess'])\n"
   ]
  },
  {
   "cell_type": "markdown",
   "metadata": {},
   "source": [
    "Si può notare come il guess non sia molto preciso, per migliorare la convergenza del fit si potrebbe fare uno studio più approfondito sulla teoria e sulla funzione di voigt oppure usare metodi iterativi"
   ]
  },
  {
   "cell_type": "markdown",
   "metadata": {},
   "source": [
    "Illustriamo ora il secondo metodo, ovvero il fit delle bande. Per fittare il modello, ovvero una distribuzione di Maxwell-Boltzmann, occorre innanzitutto distinguere le bande, poiché per ora non lo sono. Per fare ciò osservo che dal plot dei massimi dei picchi, il profilo che ne risulta è a sua volta un profilo a picchi, quindi posso riutilizzare la funzione find_peaks per distinguere la banda più alta dal resto dei dati, utilizzando i parametri distance e hmin, scelti dall'utente, per selezionare solo i dati desiderati. Noto inoltre che questo metodo permette anche di dare una stima del centro della banda poiché esso è punto di minimo relativo "
   ]
  },
  {
   "cell_type": "code",
   "execution_count": 6,
   "metadata": {},
   "outputs": [],
   "source": [
    "#provo a plottare i massimi dei massimi e vedere se riconosce le bande\n",
    "plt.close('all')\n",
    "peaks2={}\n",
    "hmin=[.15, 2e-8]\n",
    "width=0\n",
    "gmu=[0,0]\n",
    "dist=[7,2] #,distance=dist\n",
    "for i,name in enumerate(myList):\n",
    "    peaks2[name]=[peaks[name][0][find_peaks(peaks[name][1],height=hmin[i],distance=dist[i])[0]],peaks[name][1][find_peaks(peaks[name][1],height=hmin[i],distance=dist[i])[0]]]\n",
    "    #e` anche possibile dare cosi` una stima del centro delle bande\n",
    "    gmu[i]=peaks2[name][0][find_peaks(-peaks2[name][1])[0]]\n",
    "    plt.figure()\n",
    "    plt.plot(peaks[name][0],peaks[name][1], 'r-*')\n",
    "    plt.plot(peaks2[name][0],peaks2[name][1], 'b.')\n",
    "    plt.plot(gmu[i],0,'g.')\n",
    "    plt.grid()\n"
   ]
  },
  {
   "cell_type": "markdown",
   "metadata": {},
   "source": [
    "Una volta distinta la banda superiore dal resto, noto che molti punti che dovrebbero appertenervi mancano. Questo perchè il metodo precedente riesce a distinguerli soltanto se rappresentano dei massimi, se si trovano in una zona in cui non sono presenti massimi di altre bande, questi non spiccheranno tra i dati, e quindi non verranno considerati. Per ovviare a ciò eseguo un fit preliminare di questa prima scrematura di bande, sempre utilizzando degli starting points trovati manipolando la funzione di riferimento, successivamente considero nuovamente tutti i massimi. Se questi distano dal modello meno di una certa ε, arbitraria ma in prima approssimazione uguale a circa  2,5 volte la deviazione standard dei dati selezionati dal modello, allora anche essi vengono considerati parte della banda. Ora che ho aggiunto alcuni dati, con un certo limite dato da una soglia in altezza (poiché al di sotto di essa vi sono troppe bande e quindi i dati sono troppo densi), eseguo nuovamente il fit, in modo da avere dei parametri migliori del modello, il quale di adatterà meglio ai dati."
   ]
  },
  {
   "cell_type": "code",
   "execution_count": 20,
   "metadata": {},
   "outputs": [],
   "source": [
    "#fit delle bande\n",
    "plt.close('all')\n",
    "kb=1.380649 *10**-23\n",
    "#gmu=[196.8,190.29]\n",
    "#idea: ciclo while che diminuisce eps ma lo tiene tale che tutti i selected point siano nella ricostruzione\n",
    "#eps=[2e-1,3e-8]\n",
    "vmax=[0,0]\n",
    "norm=[0,0]\n",
    "peaks2={}\n",
    "hmin=[.15, 2e-8]\n",
    "width=0\n",
    "gmu=[0,0]\n",
    "dist=[7,2]\n",
    "\n",
    "for i,name in enumerate(myList):\n",
    "    #qui potrei inserire un ciclo per fittare ogni banda\n",
    "    #for j in range(#bande):\n",
    "    peaks2[name]=[peaks[name][0][find_peaks(peaks[name][1],height=hmin[i],distance=dist[i])[0]],peaks[name][1][find_peaks(peaks[name][1],height=hmin[i],distance=dist[i])[0]]]\n",
    "    #e` anche possibile dare cosi` una stima del centro delle bande\n",
    "    gmu[i]=peaks2[name][0][find_peaks(-peaks2[name][1])[0]]\n",
    "    b_max=np.argmax(peaks2[name][1])\n",
    "    plt.figure()\n",
    "    plt.plot(peaks[name][0],peaks[name][1],'k.',markersize=2)\n",
    "    for k in range(2):\n",
    "        if peaks2[name][0][b_max]>gmu[i]:\n",
    "            cond2=peaks2[name][0]>=gmu[i]\n",
    "            cond3=peaks[name][0]>=gmu[i]\n",
    "        else:\n",
    "            cond2=peaks2[name][0]<=gmu[i]\n",
    "            cond3=peaks[name][0]<=gmu[i]\n",
    "        #lasciamo perdere l'approccio di matematica booleana\n",
    "        if np.logical_and(i!=0,k==1):\n",
    "            cond2=np.logical_not(cond2)\n",
    "            cond3=np.logical_not(cond3)\n",
    "        xb=np.copy(peaks2[name][0][cond2])\n",
    "        yb=np.copy(peaks2[name][1][cond2])\n",
    "        vmax[i]=abs(xb[np.argmax(yb)]-gmu[i])\n",
    "        #vmax e` possibile trovarlo anche conoscendo T e m\n",
    "        #vmax[1]=np.sqrt(kb*(8.21917808*10**21)) \n",
    "        #f(vmax)=C*... inverto la relazione\n",
    "        norm[i]=np.exp(1)*yb[np.argmax(yb)]*abs(vmax[i])*(np.pi**(1/2))/4\n",
    "        #si puo` provare anche approssimando ad un triangolo\n",
    "        p0=[vmax[i],norm[i],gmu[i]]\n",
    "        fit,cov=curve_fit(sm.max_boltz,xb,yb,p0=p0)\n",
    "        #si potrebbe computare eps partendo ad esempio dai residui o dalla std, ho scelto 2.5 volte la std\n",
    "        eps[i]=2.5*np.sqrt(np.mean((yb-sm.max_boltz(xb,*fit))**2))\n",
    "        #ricostruzione banda #*abs(xb-xb[np.argmax(yb)]) #*abs(xb-xb[b_max])  \n",
    "        #bcon=[for j in len(xb[bcon]):  ]\n",
    "        bcon=((abs(peaks[name][1]-sm.max_boltz(peaks[name][0],*fit)))<=eps[i])*cond3*(peaks[name][1]>=hmin[i])\n",
    "        fit2,cov2=curve_fit(sm.max_boltz,peaks[name][0][bcon],peaks[name][1][bcon],p0=p0)\n",
    "        #plot\n",
    "        plt.plot(xb,yb, '*b',markersize=7)\n",
    "        plt.plot(peaks[name][0][cond3],sm.max_boltz(peaks[name][0][cond3],vmax[i],norm[i],gmu[i]),'g',linewidth=.5)\n",
    "        plt.plot(peaks[name][0][cond3],sm.max_boltz(peaks[name][0][cond3],*fit),'grey',linewidth=.5)\n",
    "        plt.plot(peaks[name][0][bcon],peaks[name][1][bcon],'.r')\n",
    "        plt.plot(peaks[name][0][cond3],sm.max_boltz(peaks[name][0][cond3],*fit2),'k--',linewidth=1)\n",
    "\n",
    "    #nu Rolex or e diamant\n",
    "    plt.grid()\n",
    "    plt.legend(['whole data','selected data','guess','1st fit','reconstructed band','2nd fit'])\n",
    "    plt.xlabel('Frequenza [THz]')\n",
    "    plt.ylabel('Assorbimento')\n",
    "    plt.title(name)"
   ]
  },
  {
   "cell_type": "markdown",
   "metadata": {},
   "source": [
    "Si può notare che la banda è asimmetrica, ma che in generale i dati si adattano piuttosto bene al modello scelto. Per migliorare il fit si potrebbe utlizzare la distinzione di banda trovata per fittare i risultati ottenuti dal fit dei picchi, poichè tali dati presentano un errore minore dato dal fit stesso e non dalla precisione dello strumento. Si potrebbe inoltre iterare nuovamente il processo per il fit delle bande inferiori per eseguire analisi più approfondite."
   ]
  }
 ],
 "metadata": {
  "kernelspec": {
   "display_name": "scripting-course",
   "language": "python",
   "name": "python3"
  },
  "language_info": {
   "codemirror_mode": {
    "name": "ipython",
    "version": 3
   },
   "file_extension": ".py",
   "mimetype": "text/x-python",
   "name": "python",
   "nbconvert_exporter": "python",
   "pygments_lexer": "ipython3",
   "version": "3.10.10"
  }
 },
 "nbformat": 4,
 "nbformat_minor": 2
}
