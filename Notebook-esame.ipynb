{
 "cells": [
  {
   "cell_type": "markdown",
   "metadata": {},
   "source": [
    "Notebook esame: \n",
    "In questo notebook mi occuperò dell' analisi degli spettri di assorbimento di due specie di molecole (CO2 e C2H2), ottenuti attraverso il metodo 'comb-locked frequency-swept synthesis' (CLFSS), il quale permette di avere simultanaemante un grande livello di precisione e di range di misura in tempi brevi.\n",
    "Come primo passo importo le librerie necessarie e i dati per un plot preliminare."
   ]
  },
  {
   "cell_type": "code",
   "execution_count": 6,
   "metadata": {},
   "outputs": [],
   "source": [
    "# Import libraries\n",
    "%matplotlib qt\n",
    "import numpy as np\n",
    "import matplotlib.pyplot as plt\n",
    "from scipy.optimize import curve_fit\n",
    "import ipywidgets as widgets\n",
    "from ipywidgets import interact_manual\n",
    "from ipywidgets import interact\n",
    "from scipy.signal import find_peaks\n",
    "import spettro_module as sm"
   ]
  },
  {
   "cell_type": "code",
   "execution_count": 7,
   "metadata": {},
   "outputs": [],
   "source": [
    "# Dizionario dei dati\n",
    "dati = {}\n",
    "\n",
    "# Costruisco i vettori\n",
    "myList=['C2H2', 'CO2'] #modifica in percorsi relativi\n",
    "dati['C2H2']=np.loadtxt(\"ATLAS_2018/C2H2_Pband_10Torr.dat\",delimiter=\"\\t\", skiprows=2, usecols=range(6))\n",
    "dati['CO2']=np.loadtxt(\"ATLAS_2018/CO2_3THz_scan_CRDS__data_2e-2Torr.dat\",delimiter=\"\\t\", skiprows=2,usecols=range(6))\n"
   ]
  },
  {
   "cell_type": "code",
   "execution_count": 8,
   "metadata": {},
   "outputs": [],
   "source": [
    "#prova plot dati\n",
    "plt.close('all')\n",
    "\n",
    "for name in myList:\n",
    "    plt.figure()\n",
    "    plt.plot(dati[name][:,0],dati[name][:,-1],label=name)\n",
    "    plt.legend()\n",
    "    plt.grid()\n"
   ]
  },
  {
   "cell_type": "markdown",
   "metadata": {},
   "source": [
    "Ora come prima analisi è utile trovare la posizione e l'altezza dei picchi, informazioni utili da utilizzare come starting point per il fit dei modelli."
   ]
  },
  {
   "cell_type": "code",
   "execution_count": 9,
   "metadata": {},
   "outputs": [],
   "source": [
    "plt.close('all')\n",
    "#algoritmo di peaks\n",
    "#per ora lasciamo da parte il calcolo della baseline\n",
    "peaks={}\n",
    "hmin=[.02, 6e-9]\n",
    "i=0\n",
    "for name in myList:\n",
    "    peaks[name]=[dati[name][find_peaks(dati[name][:,-1],height=hmin[i], width=10)[0],0],dati[name][find_peaks(dati[name][:,-1],height=hmin[i], width=10)[0],-1]]\n",
    "    plt.figure()\n",
    "    plt.plot(dati[name][:,0],dati[name][:,-1])\n",
    "    plt.plot(peaks[name][0],peaks[name][1], '.')\n",
    "    i+=1"
   ]
  },
  {
   "cell_type": "markdown",
   "metadata": {},
   "source": [
    "Ora si può procedere all' analisi in due metodi, che chiameremo 'fit dei picchi' e 'fit delle bande'. Il primo consiste nell'analizzare con un fit i singoli picchi di assorbimento, mentre il secondo si procede con l'analisi dei massimi appartenenti alla stessa banda. Iniziamo col primo metodo."
   ]
  },
  {
   "cell_type": "code",
   "execution_count": 10,
   "metadata": {},
   "outputs": [
    {
     "name": "stderr",
     "output_type": "stream",
     "text": [
      "/Users/federicotota/miniconda3/envs/scripting-course/lib/python3.10/site-packages/scipy/optimize/_minpack_py.py:906: OptimizeWarning: Covariance of the parameters could not be estimated\n",
      "  warnings.warn('Covariance of the parameters could not be estimated',\n"
     ]
    }
   ],
   "source": [
    "#fit dei picchi\n",
    "plt.close('all')\n",
    "plt.figure()\n",
    "bline=[.005,0]#2.5e-9]\n",
    "i=1\n",
    "#for name in myList:\n",
    "name='CO2'\n",
    "cond=(dati[name][:,-1]<=bline[i])\n",
    "dati2=dati[name][:,0]*cond\n",
    "for j in peaks[name][0]:\n",
    "    #perche` questa formula? voglio trovare il pt piu` vicino che sia sotto la bline (altrimenti arrivo al picco)`\n",
    "    xmin=np.argmin(1/(dati2-j))\n",
    "    xmax=np.argmax(1/(dati2-j)) #dati[name][cond,0])\n",
    "    xfit=dati[name][xmin:xmax,0]\n",
    "    yfit=dati[name][xmin:xmax,-1]\n",
    "\n",
    "    #per il fit utilizzo la funzione di voigt, la quale in prima approssimazione puo` essere approssimata dalla funzione di pseudo voigt, una combinazione (non convoluzione) di lorentziana e gaussiana\n",
    "    fit,cov=curve_fit(sm.pseudo_Voigt1,xfit,yfit) \n",
    "    #,p0=[],bounds=((0.001,-np.inf,0,0),(1,np.inf,1,1)))\n",
    "    \n",
    "    #plt.plot(xfit,sm.pseudo_Voigt1(xfit,*fit))\n",
    "    #controllo che funzioni il metodo scelto\n",
    "    #plt.plot(dati[name][:,0],1/(dati2-j))\n",
    "    plt.plot(xfit,yfit)\n",
    "    plt.plot(xfit,sm.pseudo_Voigt1(xfit,*fit))\n",
    "#plt.plot(dati[name][:xmax,0],dati[name][:xmax,0])\n",
    "i+=1    \n"
   ]
  },
  {
   "cell_type": "markdown",
   "metadata": {},
   "source": [
    "Illustriamo ora il secondo metodo, ovvero il fit delle bande attraverso la funzione di maxwell-boltzmann. La difficolta` qui sta nel distinguere le varie bande, trovando un metodo che possa farlo in autonomia"
   ]
  },
  {
   "cell_type": "code",
   "execution_count": null,
   "metadata": {},
   "outputs": [],
   "source": [
    "#fit delle bande \n",
    "plt.close('all')\n",
    "kb=1.380649 *10**-23\n",
    "gmu=[196.8,190.29]\n",
    "eps=[2e-1,1e-8]\n",
    "\n",
    "vmax=[0,0]\n",
    "norm=[0,0]\n",
    "i=0\n",
    "\n",
    "for name in myList:\n",
    "    xb=np.copy(peaks[name][0])\n",
    "    yb=np.copy(peaks[name][1])-bline[i]\n",
    "    b_max=np.argmax(yb)\n",
    "    vmax[i]=xb[b_max]-gmu[i]\n",
    "    vmax[1]=np.sqrt(kb*(8.21917808*10**21))\n",
    "    norm[i]=np.exp(1)*yb[b_max]*((abs(vmax[i])))/(((1/(np.pi))**(3/2))*(4*np.pi))\n",
    "    #guess plot\n",
    "    plt.figure()\n",
    "    plt.grid()\n",
    "    plt.plot(xb,yb, '.')\n",
    "    plt.plot(xb,sm.max_boltz(xb,vmax[i],norm[i],gmu[i])) #(xb[b_max]-gmu[i]),norm\n",
    "    bcon=(abs(yb-sm.max_boltz(xb,vmax[i],norm[i],gmu[i])))*abs(xb-xb[b_max])<eps[i] #*abs(xb-xb[b_max])\n",
    "    #bcon=[for j in len(xb[bcon]):  ]\n",
    "    plt.plot(xb[bcon],yb[bcon],'.r')\n",
    "    \n",
    "    i+=1\n"
   ]
  }
 ],
 "metadata": {
  "kernelspec": {
   "display_name": "scripting-course",
   "language": "python",
   "name": "python3"
  },
  "language_info": {
   "codemirror_mode": {
    "name": "ipython",
    "version": 3
   },
   "file_extension": ".py",
   "mimetype": "text/x-python",
   "name": "python",
   "nbconvert_exporter": "python",
   "pygments_lexer": "ipython3",
   "version": "3.10.10"
  }
 },
 "nbformat": 4,
 "nbformat_minor": 2
}
